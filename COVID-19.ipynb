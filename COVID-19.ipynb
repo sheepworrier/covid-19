{
 "cells": [
  {
   "cell_type": "code",
   "execution_count": 1,
   "metadata": {},
   "outputs": [],
   "source": [
    "from uk_covid19 import Cov19API\n",
    "import pandas as pd\n",
    "import dataframe_image as dfi"
   ]
  },
  {
   "cell_type": "code",
   "execution_count": 3,
   "metadata": {},
   "outputs": [],
   "source": [
    "my_ltlas = [\n",
    "    ['areaType=ltla',\n",
    "    'areaName=Brighton and Hove'],\n",
    "    ['areaType=ltla',\n",
    "    'areaName=Enfield'],\n",
    "    ['areaType=ltla',\n",
    "    'areaName=Wolverhampton'],\n",
    "    ['areaType=ltla',\n",
    "    'areaName=Mid Sussex'],\n",
    "    ['areaType=ltla',\n",
    "    'areaName=Bournemouth, Christchurch and Poole'],\n",
    "    ['areaType=overview',\n",
    "    'areaName=United Kingdom']\n",
    "]"
   ]
  },
  {
   "cell_type": "code",
   "execution_count": 4,
   "metadata": {},
   "outputs": [],
   "source": [
    "cases_and_vaccines = {\n",
    "    \"date\": \"date\",\n",
    "    \"areaName\": \"areaName\",\n",
    "    \"areaCode\": \"areaCode\",\n",
    "    \"newCasesBySpecimenDate\": \"newCasesBySpecimenDate\",\n",
    "    \"cumCasesBySpecimenDate\": \"cumCasesBySpecimenDate\",\n",
    "    \"cumCasesBySpecimenDateRate\": \"cumCasesBySpecimenDateRate\",\n",
    "    \"cumCasesByPublishDateRate\": \"cumCasesByPublishDateRate\",\n",
    "    \"newCasesByPublishDate\": \"newCasesByPublishDate\",\n",
    "    \"cumCasesByPublishDate\": \"cumCasesByPublishDate\"\n",
    "}"
   ]
  },
  {
   "cell_type": "code",
   "execution_count": 5,
   "metadata": {},
   "outputs": [],
   "source": [
    "population = {}"
   ]
  },
  {
   "cell_type": "code",
   "execution_count": 1,
   "metadata": {},
   "outputs": [
    {
     "ename": "NameError",
     "evalue": "name 'my_ltlas' is not defined",
     "output_type": "error",
     "traceback": [
      "\u001b[0;31m---------------------------------------------------------------------------\u001b[0m",
      "\u001b[0;31mNameError\u001b[0m                                 Traceback (most recent call last)",
      "\u001b[0;32m<ipython-input-1-2fd21211becc>\u001b[0m in \u001b[0;36m<module>\u001b[0;34m\u001b[0m\n\u001b[0;32m----> 1\u001b[0;31m \u001b[0;32mfor\u001b[0m \u001b[0mltla\u001b[0m \u001b[0;32min\u001b[0m \u001b[0mmy_ltlas\u001b[0m\u001b[0;34m:\u001b[0m\u001b[0;34m\u001b[0m\u001b[0;34m\u001b[0m\u001b[0m\n\u001b[0m\u001b[1;32m      2\u001b[0m     api = Cov19API(filters=ltla, structure=cases_and_vaccines,\n\u001b[1;32m      3\u001b[0m                   latest_by=\"cumCasesByPublishDateRate\")\n\u001b[1;32m      4\u001b[0m     \u001b[0mdf\u001b[0m \u001b[0;34m=\u001b[0m \u001b[0mapi\u001b[0m\u001b[0;34m.\u001b[0m\u001b[0mget_dataframe\u001b[0m\u001b[0;34m(\u001b[0m\u001b[0;34m)\u001b[0m\u001b[0;34m\u001b[0m\u001b[0;34m\u001b[0m\u001b[0m\n\u001b[1;32m      5\u001b[0m     \u001b[0mpop\u001b[0m \u001b[0;34m=\u001b[0m \u001b[0mdf\u001b[0m\u001b[0;34m[\u001b[0m\u001b[0;34m'cumCasesByPublishDate'\u001b[0m\u001b[0;34m]\u001b[0m\u001b[0;34m[\u001b[0m\u001b[0;36m0\u001b[0m\u001b[0;34m]\u001b[0m \u001b[0;34m/\u001b[0m \u001b[0mdf\u001b[0m\u001b[0;34m[\u001b[0m\u001b[0;34m'cumCasesByPublishDateRate'\u001b[0m\u001b[0;34m]\u001b[0m\u001b[0;34m[\u001b[0m\u001b[0;36m0\u001b[0m\u001b[0;34m]\u001b[0m \u001b[0;34m*\u001b[0m \u001b[0;36m1e5\u001b[0m\u001b[0;34m\u001b[0m\u001b[0;34m\u001b[0m\u001b[0m\n",
      "\u001b[0;31mNameError\u001b[0m: name 'my_ltlas' is not defined"
     ]
    }
   ],
   "source": [
    "for ltla in my_ltlas:\n",
    "    api = Cov19API(filters=ltla, structure=cases_and_vaccines,\n",
    "                  latest_by=\"cumCasesByPublishDateRate\")\n",
    "    df = api.get_dataframe()\n",
    "    pop = df['cumCasesByPublishDate'][0] / df['cumCasesByPublishDateRate'][0] * 1e5\n",
    "    #print(pop)\n",
    "    ltla_name = ltla[1].split(\"=\")[1]\n",
    "    #print(ltla_name)\n",
    "    population[ltla_name] = pop\n",
    "    latest_date = df['date'][0]"
   ]
  },
  {
   "cell_type": "code",
   "execution_count": 24,
   "metadata": {},
   "outputs": [],
   "source": [
    "output_dict = {'Area name': [],\n",
    "              'Latest published rate': [],\n",
    "              'Published rate change': [],\n",
    "              'Latest specimen rate': [],\n",
    "              'Specimen rate change': []}\n",
    "output_df = pd.DataFrame(data = output_dict)"
   ]
  },
  {
   "cell_type": "code",
   "execution_count": 25,
   "metadata": {},
   "outputs": [],
   "source": [
    "for ltla in my_ltlas:\n",
    "    api = Cov19API(filters=ltla, structure=cases_and_vaccines)\n",
    "    df = api.get_dataframe()\n",
    "    ltla_name = ltla[1].split(\"=\")[1]\n",
    "    # Last 7 days published rate\n",
    "    published_latest_rate = df.newCasesByPublishDate[:7].sum() / population[ltla_name] * 1e5\n",
    "    # Prior 7 days published rate\n",
    "    published_previous_rate = df.newCasesByPublishDate[7:14].sum() / population[ltla_name] * 1e5\n",
    "    # Latest 7 days specimen date\n",
    "    specimen_latest_rate = df.newCasesBySpecimenDate[5:12].sum() / population[ltla_name] * 1e5\n",
    "    # Prior 7 days specimen date\n",
    "    specimen_previous_rate = df.newCasesBySpecimenDate[12:19].sum() / population[ltla_name] * 1e5\n",
    "    # Specimen and published rate changes\n",
    "    published_rate_change = published_latest_rate / published_previous_rate - 1\n",
    "    specimen_rate_change = specimen_latest_rate / specimen_previous_rate - 1\n",
    "    # Save results into output_df\n",
    "    output_df = output_df.append({'Area name': ltla_name,\n",
    "                                  'Latest published rate': published_latest_rate,\n",
    "                                  'Latest specimen rate': specimen_latest_rate,\n",
    "                                  'Published rate change': published_rate_change,\n",
    "                                  'Specimen rate change': specimen_rate_change},\n",
    "                                ignore_index=True)\n",
    "    # print(\"{} specimen_previous_rate: {}\".format(ltla_name, specimen_previous_rate))"
   ]
  },
  {
   "cell_type": "code",
   "execution_count": 26,
   "metadata": {},
   "outputs": [],
   "source": [
    "styled_output = output_df.sort_values(by=['Latest specimen rate']).style.hide_index().format({\n",
    "        'Latest published rate': '{:.1f}'.format,\n",
    "        'Published rate change': '{:,.0%}'.format,\n",
    "        'Latest specimen rate': '{:.1f}'.format,\n",
    "        'Specimen rate change': '{:,.0%}'.format,\n",
    "    })"
   ]
  },
  {
   "cell_type": "code",
   "execution_count": 27,
   "metadata": {},
   "outputs": [
    {
     "data": {
      "text/html": [
       "<style  type=\"text/css\" >\n",
       "</style><table id=\"T_eec7b_\" ><thead>    <tr>        <th class=\"col_heading level0 col0\" >Area name</th>        <th class=\"col_heading level0 col1\" >Latest published rate</th>        <th class=\"col_heading level0 col2\" >Published rate change</th>        <th class=\"col_heading level0 col3\" >Latest specimen rate</th>        <th class=\"col_heading level0 col4\" >Specimen rate change</th>    </tr></thead><tbody>\n",
       "                <tr>\n",
       "                                <td id=\"T_eec7b_row0_col0\" class=\"data row0 col0\" >Mid Sussex</td>\n",
       "                        <td id=\"T_eec7b_row0_col1\" class=\"data row0 col1\" >18.5</td>\n",
       "                        <td id=\"T_eec7b_row0_col2\" class=\"data row0 col2\" >-20%</td>\n",
       "                        <td id=\"T_eec7b_row0_col3\" class=\"data row0 col3\" >16.6</td>\n",
       "                        <td id=\"T_eec7b_row0_col4\" class=\"data row0 col4\" >-31%</td>\n",
       "            </tr>\n",
       "            <tr>\n",
       "                                <td id=\"T_eec7b_row1_col0\" class=\"data row1 col0\" >Brighton and Hove</td>\n",
       "                        <td id=\"T_eec7b_row1_col1\" class=\"data row1 col1\" >31.3</td>\n",
       "                        <td id=\"T_eec7b_row1_col2\" class=\"data row1 col2\" >-3%</td>\n",
       "                        <td id=\"T_eec7b_row1_col3\" class=\"data row1 col3\" >29.2</td>\n",
       "                        <td id=\"T_eec7b_row1_col4\" class=\"data row1 col4\" >-10%</td>\n",
       "            </tr>\n",
       "            <tr>\n",
       "                                <td id=\"T_eec7b_row2_col0\" class=\"data row2 col0\" >Enfield</td>\n",
       "                        <td id=\"T_eec7b_row2_col1\" class=\"data row2 col1\" >29.4</td>\n",
       "                        <td id=\"T_eec7b_row2_col2\" class=\"data row2 col2\" >-4%</td>\n",
       "                        <td id=\"T_eec7b_row2_col3\" class=\"data row2 col3\" >29.4</td>\n",
       "                        <td id=\"T_eec7b_row2_col4\" class=\"data row2 col4\" >-9%</td>\n",
       "            </tr>\n",
       "            <tr>\n",
       "                                <td id=\"T_eec7b_row3_col0\" class=\"data row3 col0\" >Bournemouth, Christchurch and Poole</td>\n",
       "                        <td id=\"T_eec7b_row3_col1\" class=\"data row3 col1\" >33.6</td>\n",
       "                        <td id=\"T_eec7b_row3_col2\" class=\"data row3 col2\" >2%</td>\n",
       "                        <td id=\"T_eec7b_row3_col3\" class=\"data row3 col3\" >35.4</td>\n",
       "                        <td id=\"T_eec7b_row3_col4\" class=\"data row3 col4\" >9%</td>\n",
       "            </tr>\n",
       "            <tr>\n",
       "                                <td id=\"T_eec7b_row4_col0\" class=\"data row4 col0\" >Wolverhampton</td>\n",
       "                        <td id=\"T_eec7b_row4_col1\" class=\"data row4 col1\" >69.5</td>\n",
       "                        <td id=\"T_eec7b_row4_col2\" class=\"data row4 col2\" >12%</td>\n",
       "                        <td id=\"T_eec7b_row4_col3\" class=\"data row4 col3\" >58.9</td>\n",
       "                        <td id=\"T_eec7b_row4_col4\" class=\"data row4 col4\" >-14%</td>\n",
       "            </tr>\n",
       "            <tr>\n",
       "                                <td id=\"T_eec7b_row5_col0\" class=\"data row5 col0\" >United Kingdom</td>\n",
       "                        <td id=\"T_eec7b_row5_col1\" class=\"data row5 col1\" >59.4</td>\n",
       "                        <td id=\"T_eec7b_row5_col2\" class=\"data row5 col2\" >-1%</td>\n",
       "                        <td id=\"T_eec7b_row5_col3\" class=\"data row5 col3\" >59.5</td>\n",
       "                        <td id=\"T_eec7b_row5_col4\" class=\"data row5 col4\" >-2%</td>\n",
       "            </tr>\n",
       "    </tbody></table>"
      ],
      "text/plain": [
       "<pandas.io.formats.style.Styler at 0x11fc36b80>"
      ]
     },
     "execution_count": 27,
     "metadata": {},
     "output_type": "execute_result"
    }
   ],
   "source": [
    "styled_output"
   ]
  },
  {
   "cell_type": "markdown",
   "metadata": {},
   "source": [
    "![](COVID.png)"
   ]
  }
 ],
 "metadata": {
  "kernelspec": {
   "display_name": "Python 3",
   "language": "python",
   "name": "python3"
  },
  "language_info": {
   "codemirror_mode": {
    "name": "ipython",
    "version": 3
   },
   "file_extension": ".py",
   "mimetype": "text/x-python",
   "name": "python",
   "nbconvert_exporter": "python",
   "pygments_lexer": "ipython3",
   "version": "3.9.2+"
  }
 },
 "nbformat": 4,
 "nbformat_minor": 2
}
